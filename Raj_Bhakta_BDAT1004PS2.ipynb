{
  "nbformat": 4,
  "nbformat_minor": 0,
  "metadata": {
    "colab": {
      "provenance": [],
      "collapsed_sections": [
        "9MPwpVf-e9am",
        "H6yRMcNefzps",
        "Cuf_agZ6ik5e",
        "KzTwgGKtja3-",
        "CCZQHKX4pDyn",
        "ZGZznYOCpS_c",
        "y3nurBoNpvIm",
        "fbXFUWF7MHof"
      ]
    },
    "kernelspec": {
      "name": "python3",
      "display_name": "Python 3"
    },
    "language_info": {
      "name": "python"
    }
  },
  "cells": [
    {
      "cell_type": "markdown",
      "source": [
        "# Problem Set 2"
      ],
      "metadata": {
        "id": "Oc7hVQ2ye3eY"
      }
    },
    {
      "cell_type": "markdown",
      "source": [
        "# Question 1\n",
        "\n",
        "Consider the following Python module:"
      ],
      "metadata": {
        "id": "9MPwpVf-e9am"
      }
    },
    {
      "cell_type": "code",
      "source": [
        "a = 0"
      ],
      "metadata": {
        "id": "6M7b7248gY5B"
      },
      "execution_count": null,
      "outputs": []
    },
    {
      "cell_type": "code",
      "source": [
        "def b():\n",
        "  global a\n",
        "  a = c(a)"
      ],
      "metadata": {
        "id": "nBWN22uggb_R"
      },
      "execution_count": null,
      "outputs": []
    },
    {
      "cell_type": "code",
      "source": [
        "def c(a):\n",
        "  return a + 2"
      ],
      "metadata": {
        "id": "y4AFeJtDgb72"
      },
      "execution_count": null,
      "outputs": []
    },
    {
      "cell_type": "markdown",
      "source": [
        "After importing the module into the interpreter, you execute:"
      ],
      "metadata": {
        "id": "YkYQcCEqgjq8"
      }
    },
    {
      "cell_type": "code",
      "source": [
        "b()"
      ],
      "metadata": {
        "id": "iMhEa51IgldH"
      },
      "execution_count": null,
      "outputs": []
    },
    {
      "cell_type": "code",
      "source": [
        "b()"
      ],
      "metadata": {
        "id": "NbZnAPCjgmUt"
      },
      "execution_count": null,
      "outputs": []
    },
    {
      "cell_type": "code",
      "source": [
        "b()"
      ],
      "metadata": {
        "id": "o1ylSBrNgmRL"
      },
      "execution_count": null,
      "outputs": []
    },
    {
      "cell_type": "code",
      "source": [
        "a"
      ],
      "metadata": {
        "colab": {
          "base_uri": "https://localhost:8080/"
        },
        "id": "ZrSDNhpOgmO0",
        "outputId": "8dd339f6-1e22-45da-811e-66fc66e95e38"
      },
      "execution_count": null,
      "outputs": [
        {
          "output_type": "execute_result",
          "data": {
            "text/plain": [
              "6"
            ]
          },
          "metadata": {},
          "execution_count": 11
        }
      ]
    },
    {
      "cell_type": "markdown",
      "source": [
        "What value is displayed when the last expression (a) is evaluated? Explain your answer by indicating what happens in every executed statement.\n"
      ],
      "metadata": {
        "id": "SsLpkrzvgm-J"
      }
    },
    {
      "cell_type": "markdown",
      "source": [
        "In the given Python module, the global variable ```a``` is initially assigned a value of 0. The module includes a function ```b()``` that modifies the value of ```a``` by calling another function ```c(a)``` which adds 2 to the current value of ```a```. After importing the module, calling ```b()``` three times updates the value of ```a``` to 6. The first call changes ```a``` from 0 to 2, the second call changes it from 2 to 4, and the third call changes it from 4 to 6. Therefore, when the last expression ```a``` is evaluated, it displays the value 6, reflecting the final value of the global variable ```a``` after the function calls."
      ],
      "metadata": {
        "id": "l6kqR4-zhqaF"
      }
    },
    {
      "cell_type": "markdown",
      "source": [
        "# Question 2\n",
        "\n",
        "Function fileLength(), given to you, takes the name of a file as input and returns the length of the file:"
      ],
      "metadata": {
        "id": "H6yRMcNefzps"
      }
    },
    {
      "cell_type": "code",
      "source": [
        "def fileLength(file_name):\n",
        "  file = open(file_name)\n",
        "  contents = file.read()\n",
        "  file.close()\n",
        "  print(len(contents))"
      ],
      "metadata": {
        "id": "lXQ-wze_hA3M"
      },
      "execution_count": 35,
      "outputs": []
    },
    {
      "cell_type": "code",
      "execution_count": 36,
      "metadata": {
        "id": "0zigll4jeZ7o",
        "colab": {
          "base_uri": "https://localhost:8080/"
        },
        "outputId": "4b7533f0-c1d8-4a80-ad20-e1a101a0e8e6"
      },
      "outputs": [
        {
          "output_type": "stream",
          "name": "stdout",
          "text": [
            "138\n"
          ]
        }
      ],
      "source": [
        "fileLength('midterm.py')"
      ]
    },
    {
      "cell_type": "code",
      "source": [
        "fileLength('idterm.py')"
      ],
      "metadata": {
        "id": "zbkOQtBrhADJ",
        "colab": {
          "base_uri": "https://localhost:8080/",
          "height": 287
        },
        "outputId": "cf8e09fb-f966-4ad8-8e8d-168afc73333b"
      },
      "execution_count": 37,
      "outputs": [
        {
          "output_type": "error",
          "ename": "FileNotFoundError",
          "evalue": "ignored",
          "traceback": [
            "\u001b[0;31m---------------------------------------------------------------------------\u001b[0m",
            "\u001b[0;31mFileNotFoundError\u001b[0m                         Traceback (most recent call last)",
            "\u001b[0;32m<ipython-input-37-115b1847304a>\u001b[0m in \u001b[0;36m<cell line: 1>\u001b[0;34m()\u001b[0m\n\u001b[0;32m----> 1\u001b[0;31m \u001b[0mfileLength\u001b[0m\u001b[0;34m(\u001b[0m\u001b[0;34m'idterm.py'\u001b[0m\u001b[0;34m)\u001b[0m\u001b[0;34m\u001b[0m\u001b[0;34m\u001b[0m\u001b[0m\n\u001b[0m",
            "\u001b[0;32m<ipython-input-35-5ff851d79e02>\u001b[0m in \u001b[0;36mfileLength\u001b[0;34m(file_name)\u001b[0m\n\u001b[1;32m      1\u001b[0m \u001b[0;32mdef\u001b[0m \u001b[0mfileLength\u001b[0m\u001b[0;34m(\u001b[0m\u001b[0mfile_name\u001b[0m\u001b[0;34m)\u001b[0m\u001b[0;34m:\u001b[0m\u001b[0;34m\u001b[0m\u001b[0;34m\u001b[0m\u001b[0m\n\u001b[0;32m----> 2\u001b[0;31m   \u001b[0mfile\u001b[0m \u001b[0;34m=\u001b[0m \u001b[0mopen\u001b[0m\u001b[0;34m(\u001b[0m\u001b[0mfile_name\u001b[0m\u001b[0;34m)\u001b[0m\u001b[0;34m\u001b[0m\u001b[0;34m\u001b[0m\u001b[0m\n\u001b[0m\u001b[1;32m      3\u001b[0m   \u001b[0mcontents\u001b[0m \u001b[0;34m=\u001b[0m \u001b[0mfile\u001b[0m\u001b[0;34m.\u001b[0m\u001b[0mread\u001b[0m\u001b[0;34m(\u001b[0m\u001b[0;34m)\u001b[0m\u001b[0;34m\u001b[0m\u001b[0;34m\u001b[0m\u001b[0m\n\u001b[1;32m      4\u001b[0m   \u001b[0mfile\u001b[0m\u001b[0;34m.\u001b[0m\u001b[0mclose\u001b[0m\u001b[0;34m(\u001b[0m\u001b[0;34m)\u001b[0m\u001b[0;34m\u001b[0m\u001b[0;34m\u001b[0m\u001b[0m\n\u001b[1;32m      5\u001b[0m   \u001b[0mprint\u001b[0m\u001b[0;34m(\u001b[0m\u001b[0mlen\u001b[0m\u001b[0;34m(\u001b[0m\u001b[0mcontents\u001b[0m\u001b[0;34m)\u001b[0m\u001b[0;34m)\u001b[0m\u001b[0;34m\u001b[0m\u001b[0;34m\u001b[0m\u001b[0m\n",
            "\u001b[0;31mFileNotFoundError\u001b[0m: [Errno 2] No such file or directory: 'idterm.py'"
          ]
        }
      ]
    },
    {
      "cell_type": "markdown",
      "source": [
        "As shown above, if the file cannot be found by the interpreter or if it cannot be read as a text file, an exception will be raised. Modify function fileLength() so that a friendly message is printed instead:\n",
        "\n"
      ],
      "metadata": {
        "id": "xwP504d2g6Sl"
      }
    },
    {
      "cell_type": "code",
      "source": [
        "def fileLength(file_name):\n",
        "  try:\n",
        "    file = open(file_name)\n",
        "    contents = file.read()\n",
        "    file.close()\n",
        "    print(len(contents))\n",
        "  except FileNotFoundError:\n",
        "    print(f\"File {file_name} not found.\")"
      ],
      "metadata": {
        "id": "WFnBw-sYictY"
      },
      "execution_count": 38,
      "outputs": []
    },
    {
      "cell_type": "code",
      "source": [
        "fileLength('midterm.py')"
      ],
      "metadata": {
        "id": "r7MkegTgiURg",
        "colab": {
          "base_uri": "https://localhost:8080/"
        },
        "outputId": "2229576f-8aae-457e-ab2a-7775ed7001e2"
      },
      "execution_count": 39,
      "outputs": [
        {
          "output_type": "stream",
          "name": "stdout",
          "text": [
            "138\n"
          ]
        }
      ]
    },
    {
      "cell_type": "code",
      "source": [
        "fileLength('idterm.py')"
      ],
      "metadata": {
        "id": "rOOFwduWg64m",
        "colab": {
          "base_uri": "https://localhost:8080/"
        },
        "outputId": "465b6b70-8a5c-4a87-8ed5-4e8c9ef588d3"
      },
      "execution_count": 40,
      "outputs": [
        {
          "output_type": "stream",
          "name": "stdout",
          "text": [
            "File idterm.py not found.\n"
          ]
        }
      ]
    },
    {
      "cell_type": "markdown",
      "source": [
        "# Question 3\n",
        "\n",
        "Write a class named Marsupial that can be used as shown below:\n",
        "```\n",
        ">>> m = Marsupial()\n",
        ">>> m.put_in_pouch('doll')\n",
        ">>> m.put_in_pouch('firetruck')\n",
        ">>> m.put_in_pouch('kitten')\n",
        ">>> m.pouch_contents()\n",
        "['doll', 'firetruck', 'kitten']\n",
        "```\n"
      ],
      "metadata": {
        "id": "Cuf_agZ6ik5e"
      }
    },
    {
      "cell_type": "code",
      "source": [
        "class Marsupial:\n",
        "  def __init__(self):\n",
        "    self.pouch = []\n",
        "\n",
        "  def put_in_pouch(self, item):\n",
        "    self.pouch.append(item)\n",
        "\n",
        "  def pouch_contents(self):\n",
        "    return self.pouch"
      ],
      "metadata": {
        "id": "UUCyLCgokC76"
      },
      "execution_count": 7,
      "outputs": []
    },
    {
      "cell_type": "code",
      "source": [
        "m = Marsupial()"
      ],
      "metadata": {
        "id": "lP6f6IzxkLOa"
      },
      "execution_count": 8,
      "outputs": []
    },
    {
      "cell_type": "code",
      "source": [
        "m.put_in_pouch('doll')"
      ],
      "metadata": {
        "id": "EJjySdHEkK91"
      },
      "execution_count": 9,
      "outputs": []
    },
    {
      "cell_type": "code",
      "source": [
        "m.put_in_pouch('firetruck')"
      ],
      "metadata": {
        "id": "1Np4zLzDkK6c"
      },
      "execution_count": 10,
      "outputs": []
    },
    {
      "cell_type": "code",
      "source": [
        "m.put_in_pouch('kitten')"
      ],
      "metadata": {
        "id": "B8377N_RkK4O"
      },
      "execution_count": 11,
      "outputs": []
    },
    {
      "cell_type": "code",
      "source": [
        "m.pouch_contents()"
      ],
      "metadata": {
        "id": "vGnCad-fkK18",
        "colab": {
          "base_uri": "https://localhost:8080/"
        },
        "outputId": "a00b83d7-2986-4b37-ff42-e61cd90dfd1f"
      },
      "execution_count": 12,
      "outputs": [
        {
          "output_type": "execute_result",
          "data": {
            "text/plain": [
              "['doll', 'firetruck', 'kitten']"
            ]
          },
          "metadata": {},
          "execution_count": 12
        }
      ]
    },
    {
      "cell_type": "markdown",
      "source": [
        "Now write a class named Kangaroo as a subclass of Marsupial that inherits all the attributes of Marsupial and also:\n",
        "1. extends the Marsupial ```__init__``` constructor to take, as input, the\n",
        "coordinates x and y of the Kangaroo object,\n",
        "2. supports method jump that takes number values dx and dy as input and movesthe kangaroo by dx units along the x-axis and by dy units along the yaxis, and\n",
        "3. overloads the ```__str__``` operator so it behaves as shown below.\n",
        "\n",
        "```\n",
        ">>> k = Kangaroo(0,0)\n",
        ">>> print(k)\n",
        "I am a Kangaroo located at coordinates (0,0)\n",
        ">>> k.put_in_pouch('doll')\n",
        ">>> k.put_in_pouch('firetruck')\n",
        ">>> k.put_in_pouch('kitten')\n",
        ">>> k.pouch_contents()\n",
        "['doll', 'firetruck', 'kitten']\n",
        ">>> k.jump(1,0)\n",
        ">>> k.jump(1,0)\n",
        ">>> k.jump(1,0)\n",
        ">>> print(k)\n",
        "I am a Kangaroo located at coordinates (3,0)\n",
        "```"
      ],
      "metadata": {
        "id": "F8-gORDvkDVc"
      }
    },
    {
      "cell_type": "code",
      "source": [
        "class Kangaroo(Marsupial):\n",
        "  def __init__(self, x, y):\n",
        "    super().__init__()\n",
        "    self.x = x\n",
        "    self.y = y\n",
        "\n",
        "  def jump(self, dx, dy):\n",
        "    self.x += dx\n",
        "    self.y += dy\n",
        "\n",
        "  def __str__(self):\n",
        "    return f\"I am a Kangaroo located at coordinates ({self.x},{self.y})\""
      ],
      "metadata": {
        "id": "1yRIWNiuj7yW"
      },
      "execution_count": 23,
      "outputs": []
    },
    {
      "cell_type": "code",
      "source": [
        "k = Kangaroo(0, 0)\n",
        "print(k)"
      ],
      "metadata": {
        "colab": {
          "base_uri": "https://localhost:8080/"
        },
        "id": "uNT3UpvI63_G",
        "outputId": "ec1904a1-6971-419c-92fe-3ce545addb54"
      },
      "execution_count": 24,
      "outputs": [
        {
          "output_type": "stream",
          "name": "stdout",
          "text": [
            "I am a Kangaroo located at coordinates (0,0)\n"
          ]
        }
      ]
    },
    {
      "cell_type": "code",
      "source": [
        "k.put_in_pouch('doll')"
      ],
      "metadata": {
        "id": "nA6RfvZv73tO"
      },
      "execution_count": 25,
      "outputs": []
    },
    {
      "cell_type": "code",
      "source": [
        "k.put_in_pouch('firetruck')"
      ],
      "metadata": {
        "id": "PWY9onH576fT"
      },
      "execution_count": 26,
      "outputs": []
    },
    {
      "cell_type": "code",
      "source": [
        "k.put_in_pouch('kitten')"
      ],
      "metadata": {
        "id": "jWg_mF1L77v_"
      },
      "execution_count": 27,
      "outputs": []
    },
    {
      "cell_type": "code",
      "source": [
        "print(k.pouch_contents())"
      ],
      "metadata": {
        "colab": {
          "base_uri": "https://localhost:8080/"
        },
        "id": "IOUh8AKW77sv",
        "outputId": "5569272f-e047-4ea2-b5c2-92d2ba735cd3"
      },
      "execution_count": 28,
      "outputs": [
        {
          "output_type": "stream",
          "name": "stdout",
          "text": [
            "['doll', 'firetruck', 'kitten']\n"
          ]
        }
      ]
    },
    {
      "cell_type": "code",
      "source": [
        "k.jump(1,0)"
      ],
      "metadata": {
        "id": "Epp_krt9i6GG"
      },
      "execution_count": 29,
      "outputs": []
    },
    {
      "cell_type": "code",
      "source": [
        "k.jump(1,0)"
      ],
      "metadata": {
        "id": "SI9bDWWJjWqp"
      },
      "execution_count": 30,
      "outputs": []
    },
    {
      "cell_type": "code",
      "source": [
        "k.jump(1,0)"
      ],
      "metadata": {
        "id": "qfJJCmX2jVqu"
      },
      "execution_count": 31,
      "outputs": []
    },
    {
      "cell_type": "code",
      "source": [
        "print(k)"
      ],
      "metadata": {
        "id": "w1CsOvuTjVnp",
        "colab": {
          "base_uri": "https://localhost:8080/"
        },
        "outputId": "fa79d36a-0526-44c1-b84e-733173f1a8ed"
      },
      "execution_count": 32,
      "outputs": [
        {
          "output_type": "stream",
          "name": "stdout",
          "text": [
            "I am a Kangaroo located at coordinates (3,0)\n"
          ]
        }
      ]
    },
    {
      "cell_type": "markdown",
      "source": [
        "# Question 4\n",
        "\n",
        "Write function collatz() that takes a positive integer x as input and prints the Collatz sequence starting at x. A Collatz sequence is obtained by repeatedly applying this rule to the previous number x in the sequence:\n",
        "\n",
        "\\begin{align}\n",
        "        x = \\left\\{\n",
        "        \\begin{array}{cl}\n",
        "        x/2 & \\text{if x is even} \\\\\n",
        "        3x+1 & \\text{if x is odd}\n",
        "        \\end{array}\n",
        "        \\right.\n",
        "    \\end{align}\n",
        "\n",
        "\n",
        "Your function should stop when the sequence gets to number 1. Your implementation must be recursive, without any loops."
      ],
      "metadata": {
        "id": "KzTwgGKtja3-"
      }
    },
    {
      "cell_type": "code",
      "source": [
        "def collatz(x):\n",
        "  print(x)\n",
        "\n",
        "  if x == 1:\n",
        "    return\n",
        "  elif x % 2 == 0:\n",
        "    collatz(x // 2)\n",
        "  else:\n",
        "    collatz(3 * x + 1)"
      ],
      "metadata": {
        "id": "iLORcBBsjyBF"
      },
      "execution_count": null,
      "outputs": []
    },
    {
      "cell_type": "code",
      "source": [
        " collatz(1)"
      ],
      "metadata": {
        "colab": {
          "base_uri": "https://localhost:8080/"
        },
        "id": "-po26lTLjwQK",
        "outputId": "d63d0f09-3584-493e-b486-b84ec3e6f367"
      },
      "execution_count": null,
      "outputs": [
        {
          "output_type": "stream",
          "name": "stdout",
          "text": [
            "1\n"
          ]
        }
      ]
    },
    {
      "cell_type": "code",
      "source": [
        " collatz(10)"
      ],
      "metadata": {
        "colab": {
          "base_uri": "https://localhost:8080/"
        },
        "id": "dfUQG0A6jw9L",
        "outputId": "2ce91233-37d5-4387-c53e-973f878507f0"
      },
      "execution_count": null,
      "outputs": [
        {
          "output_type": "stream",
          "name": "stdout",
          "text": [
            "10\n",
            "5\n",
            "16\n",
            "8\n",
            "4\n",
            "2\n",
            "1\n"
          ]
        }
      ]
    },
    {
      "cell_type": "markdown",
      "source": [
        "# Question 5\n",
        "\n",
        "Write a recursive method binary() that takes a non-negative integer n and prints the binary representation of integer n."
      ],
      "metadata": {
        "id": "CCZQHKX4pDyn"
      }
    },
    {
      "cell_type": "code",
      "source": [
        "def binary(n):\n",
        "  if n == 0:\n",
        "    print(0, end='')\n",
        "\n",
        "  elif n == 1:\n",
        "    print(1, end='')\n",
        "\n",
        "  else:\n",
        "    binary(n // 2)\n",
        "    print(n % 2, end='')"
      ],
      "metadata": {
        "id": "suMyX1yHpR3E"
      },
      "execution_count": null,
      "outputs": []
    },
    {
      "cell_type": "code",
      "source": [
        "binary(0)"
      ],
      "metadata": {
        "colab": {
          "base_uri": "https://localhost:8080/"
        },
        "id": "4cEvAG0ppKZE",
        "outputId": "ff1bca13-7749-4e51-e798-879eb98557a4"
      },
      "execution_count": null,
      "outputs": [
        {
          "output_type": "stream",
          "name": "stdout",
          "text": [
            "0"
          ]
        }
      ]
    },
    {
      "cell_type": "code",
      "source": [
        "binary(1)"
      ],
      "metadata": {
        "colab": {
          "base_uri": "https://localhost:8080/"
        },
        "id": "rdwvYlXDpOc-",
        "outputId": "1e2fc372-9389-4eb4-89ca-a86b7018c9a3"
      },
      "execution_count": null,
      "outputs": [
        {
          "output_type": "stream",
          "name": "stdout",
          "text": [
            "1"
          ]
        }
      ]
    },
    {
      "cell_type": "code",
      "source": [
        "binary(3)"
      ],
      "metadata": {
        "colab": {
          "base_uri": "https://localhost:8080/"
        },
        "id": "kH2NjENJpQF5",
        "outputId": "593d9476-e8b5-4734-c864-37d71c39398b"
      },
      "execution_count": null,
      "outputs": [
        {
          "output_type": "stream",
          "name": "stdout",
          "text": [
            "11"
          ]
        }
      ]
    },
    {
      "cell_type": "code",
      "source": [
        "binary(9)"
      ],
      "metadata": {
        "colab": {
          "base_uri": "https://localhost:8080/"
        },
        "id": "RvYcd3YbpRRY",
        "outputId": "19554d70-0d4a-4f6f-cfb7-aecf90070e18"
      },
      "execution_count": null,
      "outputs": [
        {
          "output_type": "stream",
          "name": "stdout",
          "text": [
            "1001"
          ]
        }
      ]
    },
    {
      "cell_type": "markdown",
      "source": [
        "# Question 6\n",
        "\n",
        "Implement a class named HeadingParser that can be used to parse an HTML document, and retrieve and print all the headings in the document. You should implement your class as a subclass of HTMLParser, defined in Standard Library module html.parser. When fed a string containing HTML code, your class should print the headings, one per line and in the order in which they appear in the document.Each heading should be indented asfollows: an h1 heading should have indentation 0, and h2 heading should have indentation 1, etc. Test your implementation using w3c.html.\n",
        "```\n",
        "infile = open('w3c.html')\n",
        "content = infile.read()\n",
        "infile.close()\n",
        "hp = HeadingParser()\n",
        "hp.feed(content)\n",
        "```"
      ],
      "metadata": {
        "id": "ZGZznYOCpS_c"
      }
    },
    {
      "cell_type": "code",
      "source": [
        "from html.parser import HTMLParser\n",
        "\n",
        "class HeadingParser(HTMLParser):\n",
        "  def __init__(self):\n",
        "    super().__init__()\n",
        "    self.indentation = 0\n",
        "    self.inside_heading = False\n",
        "\n",
        "  def handle_starttag(self, tag, attrs):\n",
        "    if tag.startswith('h') and len(tag) == 2 and tag[1].isdigit():\n",
        "      self.indentation = int(tag[1]) - 1\n",
        "      self.inside_heading = True\n",
        "\n",
        "  def handle_endtag(self, tag):\n",
        "    if tag.startswith('h') and len(tag) == 2 and tag[1].isdigit():\n",
        "      self.indentation = 0\n",
        "      self.inside_heading = False\n",
        "\n",
        "  def handle_data(self, data):\n",
        "    if self.inside_heading:\n",
        "      print(' ' * self.indentation + data.strip())"
      ],
      "metadata": {
        "id": "gCH2QGXypfXD"
      },
      "execution_count": null,
      "outputs": []
    },
    {
      "cell_type": "code",
      "source": [
        "infile = open('w3c.html')"
      ],
      "metadata": {
        "id": "H8DDbfu8pgKQ"
      },
      "execution_count": null,
      "outputs": []
    },
    {
      "cell_type": "code",
      "source": [
        "content = infile.read()"
      ],
      "metadata": {
        "id": "IYtNxxPUpgGx"
      },
      "execution_count": null,
      "outputs": []
    },
    {
      "cell_type": "code",
      "source": [
        "infile.close()"
      ],
      "metadata": {
        "id": "J8lGQnKCpgEh"
      },
      "execution_count": null,
      "outputs": []
    },
    {
      "cell_type": "code",
      "source": [
        "hp = HeadingParser()"
      ],
      "metadata": {
        "id": "H3wtv9WJpf6w"
      },
      "execution_count": null,
      "outputs": []
    },
    {
      "cell_type": "code",
      "source": [
        "hp.feed(content)"
      ],
      "metadata": {
        "colab": {
          "base_uri": "https://localhost:8080/"
        },
        "id": "gxD98d74prb1",
        "outputId": "4bc92c9f-006f-4a87-82c8-f69cc31a28d4"
      },
      "execution_count": null,
      "outputs": [
        {
          "output_type": "stream",
          "name": "stdout",
          "text": [
            "W3C Mission\n",
            " Principles\n"
          ]
        }
      ]
    },
    {
      "cell_type": "markdown",
      "source": [
        "# Question 7\n",
        "\n",
        "Implement recursive function webdir() that takes as input: a URL (as a string) and non-negative integers depth and indent. Your function should visit every web page reachable from the starting URL web page in depth clicks or less, and print each web page's URL. As shown below, indentation, specified by indent, should be used to indicate the depth of a URL.\n",
        "```\n",
        "webdir('http://reed.cs.depaul.edu/lperkovic/csc242/test1.html', 2, 0)\n",
        "\n",
        "http://reed.cs.depaul.edu/lperkovic/csc242/test1.html\n",
        "  http://reed.cs.depaul.edu/lperkovic/csc242/test2.html\n",
        "    http://reed.cs.depaul.edu/lperkovic/csc242/test4.html\n",
        "  http://reed.cs.depaul.edu/lperkovic/csc242/test3.html\n",
        "    http://reed.cs.depaul.edu/lperkovic/csc242/test4.html\n",
        "```"
      ],
      "metadata": {
        "id": "y3nurBoNpvIm"
      }
    },
    {
      "cell_type": "code",
      "source": [
        "from urllib.request import urlopen\n",
        "from bs4 import BeautifulSoup\n",
        "\n",
        "def webdir(url, depth, indent):\n",
        "  if depth < 0:\n",
        "    return\n",
        "\n",
        "  try:\n",
        "    response = urlopen(url)\n",
        "    soup = BeautifulSoup(response, 'html.parser')\n",
        "    print(' ' * indent + url)\n",
        "\n",
        "    if depth == 0:\n",
        "      return\n",
        "\n",
        "    links = soup.find_all('a')\n",
        "    for link in links:\n",
        "      href = link.get('href')\n",
        "      if href.startswith('http'):\n",
        "        webdir(href, depth - 1, indent + 2)\n",
        "\n",
        "  except Exception as e:\n",
        "    print('Error:', e)"
      ],
      "metadata": {
        "id": "mgkMn50FqEXH"
      },
      "execution_count": null,
      "outputs": []
    },
    {
      "cell_type": "code",
      "source": [
        "webdir('https://reed.cs.depaul.edu/lperkovic/csc242/syllabus.html', 2, 0)"
      ],
      "metadata": {
        "colab": {
          "base_uri": "https://localhost:8080/"
        },
        "id": "jBdKE8WPpxHE",
        "outputId": "c3755bb4-9de4-4c19-943f-74135a7f37c7"
      },
      "execution_count": null,
      "outputs": [
        {
          "output_type": "stream",
          "name": "stdout",
          "text": [
            "https://reed.cs.depaul.edu/lperkovic/csc242/syllabus.html\n",
            "  https://reed.cs.depaul.edu/lperkovic/\n",
            "Error: HTTP Error 418: \n",
            "Error: HTTP Error 418: \n",
            "    https://reed.cs.depaul.edu/lperkovic/courses/csc241/\n",
            "    https://reed.cs.depaul.edu/lperkovic/courses/csc242/\n",
            "  https://depaul.zoom.us/j/894936490\n",
            "  https://depaul.zoom.us/j/894936490\n",
            "  https://d2l.depaul.edu/\n",
            "  https://d2l.depaul.edu/\n",
            "  https://www.vitalsource.com/custom/9781119185390\n",
            "    https://get.vitalsource.com/\n",
            "    https://get.vitalsource.com/press\n",
            "    https://get.vitalsource.com/about-us/careers\n",
            "    https://get.vitalsource.com/resources/events\n",
            "    https://get.vitalsource.com/blog\n",
            "    https://get.vitalsource.com/vitalsource-advantage/accessibility\n",
            "    https://bulk-store.vitalsource.com/\n",
            "Error: HTTP Error 403: Forbidden\n",
            "Error: HTTP Error 403: Forbidden\n",
            "    https://www.youtube.com/channel/UCnLjhbaT56U_mmmc4m0yBrA\n",
            "    https://www.instagram.com/vitalsource/\n",
            "    https://www.facebook.com/vitalsourcebookshelf/\n",
            "Error: HTTP Error 302: The HTTP server returned a redirect error that would lead to an infinite loop.\n",
            "The last 30x error message was:\n",
            "Found\n",
            "Error: HTTP Error 999: Request denied\n",
            "    https://get.vitalsource.com/\n",
            "  https://reed.cs.depaul.edu/lperkovic/courses/csc242\n",
            "  https://academics.depaul.edu/calendar/Pages/default.aspx\n",
            "    https://academics.depaul.edu/calendar/Pages/default.aspx\n",
            "    https://resources.depaul.edu/student-success/Pages/default.aspx\n",
            "    http://go.depaul.edu/bluestar\n",
            "    https://campusconnect.depaul.edu/\n",
            "    https://offices.depaul.edu/depaul-central/Pages/default.aspx\n",
            "    https://d2l.depaul.edu/\n",
            "    https://catalog.depaul.edu/\n",
            "    https://library.depaul.edu/Pages/default.aspx\n",
            "    https://offices.depaul.edu/public-safety/Pages/default.aspx\n",
            "    https://depaul.bncollege.com/\n",
            "    https://www.depaul.edu/campus-maps/Pages/default.aspx\n",
            "    https://events.depaul.edu/\n",
            "Error: HTTP Error 302: The HTTP server returned a redirect error that would lead to an infinite loop.\n",
            "The last 30x error message was:\n",
            "Moved Temporarily\n",
            "Error: HTTP Error 404: Not Found\n",
            "    https://www.depaul.edu/Pages/employment-at-depaul.aspx\n",
            "    https://www.depaul.edu/utilities/Pages/a-z-websites.aspx\n",
            "    https://depaul.service-now.com/sp\n",
            "Error: HTTP Error 403: Forbidden\n",
            "    https://www.depaul.edu/Pages/students.aspx\n",
            "    https://www.depaul.edu/Pages/faculty.aspx\n",
            "    http://www.depaul.edu/\n",
            "    https://www.depaul.edu/Pages/default.aspx\n",
            "Error: 'NoneType' object has no attribute 'startswith'\n",
            "  https://campusconnect.depaul.edu/\n",
            "  http://academicintegrity.depaul.edu/\n",
            "    https://academics.depaul.edu/calendar/Pages/default.aspx\n",
            "    https://resources.depaul.edu/student-success/Pages/default.aspx\n",
            "    http://go.depaul.edu/bluestar\n",
            "    https://campusconnect.depaul.edu/\n",
            "    https://offices.depaul.edu/depaul-central/Pages/default.aspx\n",
            "    https://d2l.depaul.edu/\n",
            "    https://catalog.depaul.edu/\n",
            "    https://library.depaul.edu/Pages/default.aspx\n",
            "    https://offices.depaul.edu/public-safety/Pages/default.aspx\n",
            "    https://depaul.bncollege.com/\n",
            "    https://www.depaul.edu/campus-maps/Pages/default.aspx\n",
            "    https://events.depaul.edu/\n",
            "Error: HTTP Error 302: The HTTP server returned a redirect error that would lead to an infinite loop.\n",
            "The last 30x error message was:\n",
            "Moved Temporarily\n",
            "Error: HTTP Error 404: Not Found\n",
            "    https://www.depaul.edu/Pages/employment-at-depaul.aspx\n",
            "    https://www.depaul.edu/utilities/Pages/a-z-websites.aspx\n",
            "    https://depaul.service-now.com/sp\n",
            "Error: HTTP Error 403: Forbidden\n",
            "    https://www.depaul.edu/Pages/students.aspx\n",
            "    https://www.depaul.edu/Pages/faculty.aspx\n",
            "    https://www.depaul.edu/\n",
            "Error: 'NoneType' object has no attribute 'startswith'\n",
            "  https://academics.depaul.edu/calendar/Pages/default.aspx\n",
            "    https://academics.depaul.edu/calendar/Pages/default.aspx\n",
            "    https://resources.depaul.edu/student-success/Pages/default.aspx\n",
            "    http://go.depaul.edu/bluestar\n",
            "    https://campusconnect.depaul.edu/\n",
            "    https://offices.depaul.edu/depaul-central/Pages/default.aspx\n",
            "    https://d2l.depaul.edu/\n",
            "    https://catalog.depaul.edu/\n",
            "    https://library.depaul.edu/Pages/default.aspx\n",
            "    https://offices.depaul.edu/public-safety/Pages/default.aspx\n",
            "    https://depaul.bncollege.com/\n",
            "    https://www.depaul.edu/campus-maps/Pages/default.aspx\n",
            "    https://events.depaul.edu/\n",
            "Error: HTTP Error 302: The HTTP server returned a redirect error that would lead to an infinite loop.\n",
            "The last 30x error message was:\n",
            "Moved Temporarily\n",
            "Error: HTTP Error 404: Not Found\n",
            "    https://www.depaul.edu/Pages/employment-at-depaul.aspx\n",
            "    https://www.depaul.edu/utilities/Pages/a-z-websites.aspx\n",
            "    https://depaul.service-now.com/sp\n",
            "Error: HTTP Error 403: Forbidden\n",
            "    https://www.depaul.edu/Pages/students.aspx\n",
            "    https://www.depaul.edu/Pages/faculty.aspx\n",
            "    http://www.depaul.edu/\n",
            "    https://www.depaul.edu/Pages/default.aspx\n",
            "Error: 'NoneType' object has no attribute 'startswith'\n",
            "Error: HTTP Error 418: \n"
          ]
        }
      ]
    },
    {
      "cell_type": "markdown",
      "source": [
        "# Question 8\n",
        "Write SQL queries on the below database table that return:\n",
        "1. All the temperature data.\n",
        "2. All the cities, but without repetition.\n",
        "3. All the records for India.\n",
        "4. All the Fall records.\n",
        "5. The city, country, and season for which the average rainfall is between 200\n",
        "and 400 millimeters.\n",
        "6. The city and country for which the average Fall temperature is above 20\n",
        "degrees, in increasing temperature order.\n",
        "7. The total annual rainfall for Cairo.\n",
        "8. The total rainfall for each season.\n",
        "\n",
        "|City | Country | Season | Temperature (C) | Rainfall (mm)|\n",
        "|-----|---------|--------|-----------------|--------------|\n",
        "|Mumbai| India | Winter | 24.8 | 5.9|\n",
        "|Mumbai | India| Spring| 28.4| 16.2|\n",
        "|Mumbai|India|Summer|27.9|1549.4|\n",
        "|Mumbai|India|Fall|27.6|346.0|\n",
        "|London|United|Kingdom|Winter|4.2|207.7|\n",
        "|London|United|Kingdom|Spring|8.3|169.6|\n",
        "|London|United|Kingdom|Summer|15.7|157.0|\n",
        "|London|United|Kingdom|Fall|10.4|218.5|\n",
        "|Cairo|Egypt|Winter|13.6|16.5|\n",
        "|Cairo|Egypt|Spring|20.7|6.5|\n",
        "|Cairo|Egypt|Summer|27.7|0.1|\n",
        "|Cairo|Egypt|Fall|22.2|4.5|"
      ],
      "metadata": {
        "id": "kTnyasDEqHeR"
      }
    },
    {
      "cell_type": "code",
      "source": [
        "import sqlite3\n",
        "\n",
        "conn = sqlite3.connect('weather.db')"
      ],
      "metadata": {
        "id": "sbW1rmV_LRK1"
      },
      "execution_count": 76,
      "outputs": []
    },
    {
      "cell_type": "code",
      "source": [
        "cur = conn.cursor()\n",
        "\n",
        "cur.execute(\"CREATE TABLE WeatherData (City TEXT, Country TEXT, Season TEXT, Temperature REAL, Rainfall REAL)\")\n",
        "\n",
        "conn.commit()"
      ],
      "metadata": {
        "id": "d-9D41psF3lW"
      },
      "execution_count": 77,
      "outputs": []
    },
    {
      "cell_type": "code",
      "source": [
        "cur.execute(\"INSERT INTO WeatherData VALUES ('Mumbai', 'India', 'Winter', '24.8', '5.9')\")\n",
        "cur.execute(\"INSERT INTO WeatherData VALUES ('Mumbai', 'India', 'Spring', '28.4', '16.2')\")\n",
        "cur.execute(\"INSERT INTO WeatherData VALUES ('Mumbai', 'India', 'Summer', '27.9', '1549.4')\")\n",
        "cur.execute(\"INSERT INTO WeatherData VALUES ('Mumbai', 'India', 'Fall', '27.6', '346.0')\")\n",
        "cur.execute(\"INSERT INTO WeatherData VALUES ('London', 'United Kingdom', 'Winter', '4.2', '207.7')\")\n",
        "cur.execute(\"INSERT INTO WeatherData VALUES ('London', 'United Kingdom', 'Spring', '8.3', '169.6')\")\n",
        "cur.execute(\"INSERT INTO WeatherData VALUES ('London', 'United Kingdom', 'Summer', '15.7', '157.0')\")\n",
        "cur.execute(\"INSERT INTO WeatherData VALUES ('London', 'United Kingdom', 'Fall', '10.4', '218.5')\")\n",
        "cur.execute(\"INSERT INTO WeatherData VALUES ('Cairo', 'Egypt', 'Winter', '13.6', '16.5')\")\n",
        "cur.execute(\"INSERT INTO WeatherData VALUES ('Cairo', 'Egypt', 'Spring', '20.7', '6.5')\")\n",
        "cur.execute(\"INSERT INTO WeatherData VALUES ('Cairo', 'Egypt', 'Summer', '27.7', '0.1')\")\n",
        "cur.execute(\"INSERT INTO WeatherData VALUES ('Cairo', 'Egypt', 'Fall', '22.2', '4.5')\")\n",
        "\n",
        "conn.commit()"
      ],
      "metadata": {
        "id": "Tnh4BYNxF3h9"
      },
      "execution_count": 78,
      "outputs": []
    },
    {
      "cell_type": "code",
      "source": [
        "cur.execute(\"SELECT * FROM WeatherData\")\n",
        "\n",
        "for record in cur:\n",
        "  print(record)"
      ],
      "metadata": {
        "colab": {
          "base_uri": "https://localhost:8080/"
        },
        "id": "blWEBY5wF3gR",
        "outputId": "17036f3d-b479-46cf-851e-8d2a17f59510"
      },
      "execution_count": 79,
      "outputs": [
        {
          "output_type": "stream",
          "name": "stdout",
          "text": [
            "('Mumbai', 'India', 'Winter', 24.8, 5.9)\n",
            "('Mumbai', 'India', 'Spring', 28.4, 16.2)\n",
            "('Mumbai', 'India', 'Summer', 27.9, 1549.4)\n",
            "('Mumbai', 'India', 'Fall', 27.6, 346.0)\n",
            "('London', 'United Kingdom', 'Winter', 4.2, 207.7)\n",
            "('London', 'United Kingdom', 'Spring', 8.3, 169.6)\n",
            "('London', 'United Kingdom', 'Summer', 15.7, 157.0)\n",
            "('London', 'United Kingdom', 'Fall', 10.4, 218.5)\n",
            "('Cairo', 'Egypt', 'Winter', 13.6, 16.5)\n",
            "('Cairo', 'Egypt', 'Spring', 20.7, 6.5)\n",
            "('Cairo', 'Egypt', 'Summer', 27.7, 0.1)\n",
            "('Cairo', 'Egypt', 'Fall', 22.2, 4.5)\n"
          ]
        }
      ]
    },
    {
      "cell_type": "code",
      "source": [
        "cur.execute(\"SELECT Temperature FROM WeatherData\")\n",
        "\n",
        "for record in cur:\n",
        "  print(record[0])"
      ],
      "metadata": {
        "colab": {
          "base_uri": "https://localhost:8080/"
        },
        "id": "ZLKqthgoMBoS",
        "outputId": "4d632ec3-6fdd-4c27-d78b-d12a1612922a"
      },
      "execution_count": 81,
      "outputs": [
        {
          "output_type": "stream",
          "name": "stdout",
          "text": [
            "24.8\n",
            "28.4\n",
            "27.9\n",
            "27.6\n",
            "4.2\n",
            "8.3\n",
            "15.7\n",
            "10.4\n",
            "13.6\n",
            "20.7\n",
            "27.7\n",
            "22.2\n"
          ]
        }
      ]
    },
    {
      "cell_type": "code",
      "source": [
        "cur.execute(\"SELECT DISTINCT City FROM WeatherData\")\n",
        "\n",
        "for record in cur:\n",
        "  print(record[0])"
      ],
      "metadata": {
        "colab": {
          "base_uri": "https://localhost:8080/"
        },
        "id": "UoLJjRfcMZgF",
        "outputId": "e7effe3c-c77e-4762-9d99-fb9096676c56"
      },
      "execution_count": 83,
      "outputs": [
        {
          "output_type": "stream",
          "name": "stdout",
          "text": [
            "Mumbai\n",
            "London\n",
            "Cairo\n"
          ]
        }
      ]
    },
    {
      "cell_type": "code",
      "source": [
        "cur.execute(\"SELECT * FROM WeatherData WHERE Country = 'India'\")\n",
        "\n",
        "for record in cur:\n",
        "  print(record)"
      ],
      "metadata": {
        "colab": {
          "base_uri": "https://localhost:8080/"
        },
        "id": "9T1NY0cNMZLE",
        "outputId": "ce8eae74-b311-4eb2-cfb1-674f813aa5e6"
      },
      "execution_count": 84,
      "outputs": [
        {
          "output_type": "stream",
          "name": "stdout",
          "text": [
            "('Mumbai', 'India', 'Winter', 24.8, 5.9)\n",
            "('Mumbai', 'India', 'Spring', 28.4, 16.2)\n",
            "('Mumbai', 'India', 'Summer', 27.9, 1549.4)\n",
            "('Mumbai', 'India', 'Fall', 27.6, 346.0)\n"
          ]
        }
      ]
    },
    {
      "cell_type": "code",
      "source": [
        "cur.execute(\"SELECT * FROM WeatherData WHERE Season = 'Fall'\")\n",
        "\n",
        "for record in cur:\n",
        "  print(record)"
      ],
      "metadata": {
        "colab": {
          "base_uri": "https://localhost:8080/"
        },
        "id": "Jo709bl2MY4U",
        "outputId": "7c99a445-1127-4868-c0fd-ae3b229346bc"
      },
      "execution_count": 85,
      "outputs": [
        {
          "output_type": "stream",
          "name": "stdout",
          "text": [
            "('Mumbai', 'India', 'Fall', 27.6, 346.0)\n",
            "('London', 'United Kingdom', 'Fall', 10.4, 218.5)\n",
            "('Cairo', 'Egypt', 'Fall', 22.2, 4.5)\n"
          ]
        }
      ]
    },
    {
      "cell_type": "code",
      "source": [
        "cur.execute(\"SELECT City, Country, Season FROM WeatherData GROUP BY City, Country, Season HAVING AVG(Rainfall) BETWEEN 200 AND 400\")\n",
        "\n",
        "for record in cur:\n",
        "  print(record)"
      ],
      "metadata": {
        "colab": {
          "base_uri": "https://localhost:8080/"
        },
        "id": "j2NU0s-iMYda",
        "outputId": "8cb1a782-103f-4d3a-d079-54c1d92457e5"
      },
      "execution_count": 86,
      "outputs": [
        {
          "output_type": "stream",
          "name": "stdout",
          "text": [
            "('London', 'United Kingdom', 'Fall')\n",
            "('London', 'United Kingdom', 'Winter')\n",
            "('Mumbai', 'India', 'Fall')\n"
          ]
        }
      ]
    },
    {
      "cell_type": "code",
      "source": [
        "cur.execute(\"SELECT City, Country FROM WeatherData WHERE Season = 'Fall' GROUP BY City, Country HAVING AVG(Temperature) > 20 ORDER BY AVG(Temperature) ASC\")\n",
        "\n",
        "for record in cur:\n",
        "  print(record)"
      ],
      "metadata": {
        "colab": {
          "base_uri": "https://localhost:8080/"
        },
        "id": "9-2b_KFXMX7Z",
        "outputId": "90ab9ccf-69ef-4976-cfcf-7c383064588a"
      },
      "execution_count": 87,
      "outputs": [
        {
          "output_type": "stream",
          "name": "stdout",
          "text": [
            "('Cairo', 'Egypt')\n",
            "('Mumbai', 'India')\n"
          ]
        }
      ]
    },
    {
      "cell_type": "code",
      "source": [
        "cur.execute(\"SELECT SUM(Rainfall) AS TotalRainfall FROM WeatherData WHERE City = 'Cairo'\")\n",
        "\n",
        "for record in cur:\n",
        "  print(record[0])"
      ],
      "metadata": {
        "colab": {
          "base_uri": "https://localhost:8080/"
        },
        "id": "bpISfmszMXh2",
        "outputId": "512e42d5-56a7-4fe0-86db-54c08fd59843"
      },
      "execution_count": 89,
      "outputs": [
        {
          "output_type": "stream",
          "name": "stdout",
          "text": [
            "27.6\n"
          ]
        }
      ]
    },
    {
      "cell_type": "code",
      "source": [
        "cur.execute(\"SELECT Season, ROUND(SUM(Rainfall), 1) AS TotalRainfall FROM WeatherData GROUP BY Season\")\n",
        "\n",
        "for record in cur:\n",
        "  print(record)"
      ],
      "metadata": {
        "colab": {
          "base_uri": "https://localhost:8080/"
        },
        "outputId": "9fe95f45-d414-4619-91a5-09cf040349ed",
        "id": "3Zjj4t57MB3c"
      },
      "execution_count": 91,
      "outputs": [
        {
          "output_type": "stream",
          "name": "stdout",
          "text": [
            "('Fall', 569.0)\n",
            "('Spring', 192.3)\n",
            "('Summer', 1706.5)\n",
            "('Winter', 230.1)\n"
          ]
        }
      ]
    },
    {
      "cell_type": "code",
      "source": [
        "cur.close()\n",
        "conn.close()"
      ],
      "metadata": {
        "id": "LkZK50QnF3bg"
      },
      "execution_count": 92,
      "outputs": []
    },
    {
      "cell_type": "markdown",
      "source": [
        "# Question 9\n",
        "\n",
        "Suppose list words is defined as follows:\n"
      ],
      "metadata": {
        "id": "fbXFUWF7MHof"
      }
    },
    {
      "cell_type": "code",
      "source": [
        "words = ['The', 'quick', 'brown', 'fox', 'jumps', 'over', 'the', 'lazy', 'dog']\n",
        "words"
      ],
      "metadata": {
        "colab": {
          "base_uri": "https://localhost:8080/"
        },
        "id": "8OXO_r_GMrDY",
        "outputId": "dec76812-fb88-4b27-a78c-56c46f0f5dc9"
      },
      "execution_count": null,
      "outputs": [
        {
          "output_type": "execute_result",
          "data": {
            "text/plain": [
              "['The', 'quick', 'brown', 'fox', 'jumps', 'over', 'the', 'lazy', 'dog']"
            ]
          },
          "metadata": {},
          "execution_count": 5
        }
      ]
    },
    {
      "cell_type": "markdown",
      "source": [
        "Write list comprehension expressions that use list words and generate the following\n",
        "lists:\n",
        "1. ```['THE', 'QUICK', 'BROWN', 'FOX', 'JUMPS', 'OVER', 'THE', 'LAZY', 'DOG']```\n",
        "2. ```['the', 'quick', 'brown', 'fox', 'jumps', 'over', 'the', 'lazy', 'dog']```\n",
        "3. ```[3, 5, 5, 3, 5, 4, 3, 4, 3]``` (the list of lengths of words in list words).\n",
        "4. ```[['THE', 'the', 3], ['QUICK', 'quick', 5], ['BROWN', 'brown', 5], ['FOX', 'fox', 3], ['JUMPS', 'jumps', 5], ['OVER', 'over', 4], ['THE', 'the', 3], ['LAZY', 'lazy', 4], ['DOG', 'dog', 3]]``` (the list containing a list for every word of list words, where each list contains the word in uppercase and lowercase and the length of the word.)\n",
        "5. ```['The', 'quick', 'brown', 'fox', 'jumps', 'over', 'the', 'lazy', 'dog']``` (the list of words in list words containing 4 or more characters.)"
      ],
      "metadata": {
        "id": "eVLrv-gnM5ZM"
      }
    },
    {
      "cell_type": "code",
      "source": [
        "upper_words = [word.upper() for word in words]\n",
        "upper_words"
      ],
      "metadata": {
        "colab": {
          "base_uri": "https://localhost:8080/"
        },
        "id": "5yCk8ydYM8Cm",
        "outputId": "8658ab48-3821-4a2c-ead9-f9093ff7379c"
      },
      "execution_count": null,
      "outputs": [
        {
          "output_type": "execute_result",
          "data": {
            "text/plain": [
              "['THE', 'QUICK', 'BROWN', 'FOX', 'JUMPS', 'OVER', 'THE', 'LAZY', 'DOG']"
            ]
          },
          "metadata": {},
          "execution_count": 6
        }
      ]
    },
    {
      "cell_type": "code",
      "source": [
        "lower_words = [word.lower() for word in words]\n",
        "lower_words"
      ],
      "metadata": {
        "colab": {
          "base_uri": "https://localhost:8080/"
        },
        "id": "5z6_Z5w2RQof",
        "outputId": "f36765f6-e2e9-4f0b-8ad8-6ec59b0111a8"
      },
      "execution_count": null,
      "outputs": [
        {
          "output_type": "execute_result",
          "data": {
            "text/plain": [
              "['the', 'quick', 'brown', 'fox', 'jumps', 'over', 'the', 'lazy', 'dog']"
            ]
          },
          "metadata": {},
          "execution_count": 7
        }
      ]
    },
    {
      "cell_type": "code",
      "source": [
        "word_lengths = [len(word) for word in words]\n",
        "word_lengths"
      ],
      "metadata": {
        "colab": {
          "base_uri": "https://localhost:8080/"
        },
        "id": "63VtBBdNRdI-",
        "outputId": "00acb365-f51e-47d4-aa89-ae2d782d2fcf"
      },
      "execution_count": null,
      "outputs": [
        {
          "output_type": "execute_result",
          "data": {
            "text/plain": [
              "[3, 5, 5, 3, 5, 4, 3, 4, 3]"
            ]
          },
          "metadata": {},
          "execution_count": 8
        }
      ]
    },
    {
      "cell_type": "code",
      "source": [
        "word_info = [[word.upper(), word.lower(), len(word)] for word in words]\n",
        "word_info"
      ],
      "metadata": {
        "colab": {
          "base_uri": "https://localhost:8080/"
        },
        "id": "nLdhoIpzRhaN",
        "outputId": "a5266fc6-0818-453c-b4bd-9373bc01e9dd"
      },
      "execution_count": null,
      "outputs": [
        {
          "output_type": "execute_result",
          "data": {
            "text/plain": [
              "[['THE', 'the', 3],\n",
              " ['QUICK', 'quick', 5],\n",
              " ['BROWN', 'brown', 5],\n",
              " ['FOX', 'fox', 3],\n",
              " ['JUMPS', 'jumps', 5],\n",
              " ['OVER', 'over', 4],\n",
              " ['THE', 'the', 3],\n",
              " ['LAZY', 'lazy', 4],\n",
              " ['DOG', 'dog', 3]]"
            ]
          },
          "metadata": {},
          "execution_count": 9
        }
      ]
    },
    {
      "cell_type": "code",
      "source": [
        "long_words = [word for word in words if len(word) >= 4]\n",
        "long_words"
      ],
      "metadata": {
        "colab": {
          "base_uri": "https://localhost:8080/"
        },
        "id": "XlE89ppLRlHo",
        "outputId": "b7827006-7485-4ba5-cd7b-94eadbffbe06"
      },
      "execution_count": null,
      "outputs": [
        {
          "output_type": "execute_result",
          "data": {
            "text/plain": [
              "['quick', 'brown', 'jumps', 'over', 'lazy']"
            ]
          },
          "metadata": {},
          "execution_count": 10
        }
      ]
    }
  ]
}